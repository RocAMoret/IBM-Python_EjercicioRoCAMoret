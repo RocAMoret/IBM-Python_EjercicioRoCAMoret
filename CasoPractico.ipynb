{
 "cells": [
  {
   "cell_type": "markdown",
   "metadata": {},
   "source": [
    "#EJERCICIO FINAL \"Reserva y visualizacion de una sala de cines\"\n",
    "1. Creacion de clases\n",
    "2. Sistema de precios\n",
    "3. Validaciones y Manejo de Excepciones\n",
    "4. Interfaz grafica (CSS+HTLM)"
   ]
  },
  {
   "cell_type": "markdown",
   "metadata": {},
   "source": [
    "1. Creación de clases\n",
    "Acorde al UML de clases, se establecen las siguientes clases\n",
    "-Cine \n",
    "-Sala\n",
    "-Asiento"
   ]
  },
  {
   "cell_type": "code",
   "execution_count": null,
   "metadata": {},
   "outputs": [],
   "source": [
    "#Clase Cinema\n",
    "\"\"\"\n",
    "Cinema Class to interactive with front-end\n",
    "    Atributes:\n",
    "        xxxx\n",
    "        xxx\n",
    "\n",
    "    Methods:\n",
    "        xxx\n",
    "        xxx\n",
    "        xxx\n",
    "        xxx\n",
    "\"\"\""
   ]
  },
  {
   "cell_type": "code",
   "execution_count": null,
   "metadata": {},
   "outputs": [],
   "source": [
    "#Clase Hall\n",
    "\"\"\"\n",
    "Cinema Hall\n",
    "    Atributes:\n",
    "        xxxx\n",
    "        xxx\n",
    "\n",
    "    Methods:\n",
    "        xxx\n",
    "        xxx\n",
    "        xxx\n",
    "        xxx\n",
    "\"\"\""
   ]
  },
  {
   "cell_type": "code",
   "execution_count": null,
   "metadata": {},
   "outputs": [],
   "source": [
    "#Clase Seat\n"
   ]
  }
 ],
 "metadata": {
  "language_info": {
   "name": "python"
  }
 },
 "nbformat": 4,
 "nbformat_minor": 2
}
